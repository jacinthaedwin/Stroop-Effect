{
 "cells": [
  {
   "cell_type": "markdown",
   "metadata": {
    "collapsed": true,
    "deletable": true,
    "editable": true
   },
   "source": [
    "## Introduction:\n",
    "\n",
    "This project is about analyzing a dataset of a stroop effect study that is conducted upon 24 participants. \n",
    "\n",
    "participants are presented with a list of words, with each word displayed in a color of ink. The participant has to say the color of the ink in which the word is printed. The task has two conditions: a congruent words condition, and an incongruent words condition. In the congruent words condition, the words being displayed are color words whose names match the colors in which they are printed. In the incongruent words condition, the words displayed are color words whose names do not match the colors in which they are printed. In each case, we measure the time it takes to name the ink colors in equally-sized lists. Each participant will go through and record a time from each condition.\n",
    "\n",
    "More details can be found at https://en.wikipedia.org/wiki/Stroop_effect\n"
   ]
  },
  {
   "cell_type": "markdown",
   "metadata": {
    "deletable": true,
    "editable": true
   },
   "source": [
    "## Design\n",
    "\n",
    "In this analysis, we will be measuring the time in seconds it takes to name colors in equally sized lists for each participant in the two conditions.\n",
    "\n",
    "### Independant Variable\n",
    "\n",
    "The independent variable is whether the word name and font color were the same or different.\n",
    "\n",
    "### Dependant Variable\n",
    "\n",
    "The dependent variable was the reaction time to name the font color."
   ]
  },
  {
   "cell_type": "markdown",
   "metadata": {
    "deletable": true,
    "editable": true
   },
   "source": [
    "## Hypothesis\n",
    "\n",
    "Null Hypotheses ($H_0$) = The  average  time  it  takes  to  name  the  ink  colors  for  both  congruent  and incongruent words conditions population are same.\n",
    "  \\\\[\n",
    "\\mu_c-\\mu_i =0\n",
    "\\\\]\n",
    "\n",
    "Alternative Hypotheses ($H_1$) = The average time it takes to name the ink colors for both congruent and incongruent words conditions populationare not same.\n",
    "   \\\\[\n",
    "\\mu_c-\\mu_i \\neq 0\n",
    "\\\\]\n",
    "\n",
    "where $\\mu_c$ is the mean of the congruent data and $\\mu_i$ is the mean of the incongruent data\n"
   ]
  },
  {
   "cell_type": "markdown",
   "metadata": {
    "deletable": true,
    "editable": true
   },
   "source": [
    "## Appropriate Statistical Test\n",
    "\n",
    "The appropriate test for this data analysis would be the T-test for dependant samples because \n",
    "* the samples are dependant, the participants are measured under both the conditions(congruent and incongruent)\n",
    "- We do not know the population mean and the population standard deviation\n",
    "- The data is paired"
   ]
  },
  {
   "cell_type": "markdown",
   "metadata": {
    "deletable": true,
    "editable": true
   },
   "source": [
    "## Descriptive Statistics\n",
    "### Load DATA From CSV"
   ]
  },
  {
   "cell_type": "code",
   "execution_count": 2,
   "metadata": {
    "collapsed": false,
    "deletable": true,
    "editable": true
   },
   "outputs": [],
   "source": [
    "import pandas as pd\n",
    "import scipy.stats\n",
    "import math\n",
    "\n",
    "%matplotlib inline\n",
    "import matplotlib.pyplot as plt\n",
    "filename = 'stroopdata.csv'\n",
    "stroop_df = pd.read_csv(filename)\n"
   ]
  },
  {
   "cell_type": "markdown",
   "metadata": {
    "deletable": true,
    "editable": true
   },
   "source": [
    "# Investigating Data"
   ]
  },
  {
   "cell_type": "markdown",
   "metadata": {
    "deletable": true,
    "editable": true
   },
   "source": [
    " Now that the data is loaded lets take a peek at the data. We are working with 24 observations with 2 variables."
   ]
  },
  {
   "cell_type": "code",
   "execution_count": 3,
   "metadata": {
    "collapsed": false,
    "deletable": true,
    "editable": true
   },
   "outputs": [
    {
     "name": "stdout",
     "output_type": "stream",
     "text": [
      "(24, 2)\n"
     ]
    },
    {
     "data": {
      "text/plain": [
       "Congruent      float64\n",
       "Incongruent    float64\n",
       "dtype: object"
      ]
     },
     "execution_count": 3,
     "metadata": {},
     "output_type": "execute_result"
    }
   ],
   "source": [
    "print(stroop_df.shape)\n",
    "\n",
    "stroop_df.dtypes\n",
    "\n",
    "\n"
   ]
  },
  {
   "cell_type": "code",
   "execution_count": 4,
   "metadata": {
    "collapsed": false,
    "deletable": true,
    "editable": true
   },
   "outputs": [
    {
     "data": {
      "text/html": [
       "<div>\n",
       "<table border=\"1\" class=\"dataframe\">\n",
       "  <thead>\n",
       "    <tr style=\"text-align: right;\">\n",
       "      <th></th>\n",
       "      <th>Congruent</th>\n",
       "      <th>Incongruent</th>\n",
       "    </tr>\n",
       "  </thead>\n",
       "  <tbody>\n",
       "    <tr>\n",
       "      <th>0</th>\n",
       "      <td>12.079</td>\n",
       "      <td>19.278</td>\n",
       "    </tr>\n",
       "    <tr>\n",
       "      <th>1</th>\n",
       "      <td>16.791</td>\n",
       "      <td>18.741</td>\n",
       "    </tr>\n",
       "    <tr>\n",
       "      <th>2</th>\n",
       "      <td>9.564</td>\n",
       "      <td>21.214</td>\n",
       "    </tr>\n",
       "    <tr>\n",
       "      <th>3</th>\n",
       "      <td>8.630</td>\n",
       "      <td>15.687</td>\n",
       "    </tr>\n",
       "    <tr>\n",
       "      <th>4</th>\n",
       "      <td>14.669</td>\n",
       "      <td>22.803</td>\n",
       "    </tr>\n",
       "    <tr>\n",
       "      <th>5</th>\n",
       "      <td>12.238</td>\n",
       "      <td>20.878</td>\n",
       "    </tr>\n",
       "    <tr>\n",
       "      <th>6</th>\n",
       "      <td>14.692</td>\n",
       "      <td>24.572</td>\n",
       "    </tr>\n",
       "    <tr>\n",
       "      <th>7</th>\n",
       "      <td>8.987</td>\n",
       "      <td>17.394</td>\n",
       "    </tr>\n",
       "    <tr>\n",
       "      <th>8</th>\n",
       "      <td>9.401</td>\n",
       "      <td>20.762</td>\n",
       "    </tr>\n",
       "    <tr>\n",
       "      <th>9</th>\n",
       "      <td>14.480</td>\n",
       "      <td>26.282</td>\n",
       "    </tr>\n",
       "    <tr>\n",
       "      <th>10</th>\n",
       "      <td>22.328</td>\n",
       "      <td>24.524</td>\n",
       "    </tr>\n",
       "    <tr>\n",
       "      <th>11</th>\n",
       "      <td>15.298</td>\n",
       "      <td>18.644</td>\n",
       "    </tr>\n",
       "    <tr>\n",
       "      <th>12</th>\n",
       "      <td>15.073</td>\n",
       "      <td>17.510</td>\n",
       "    </tr>\n",
       "    <tr>\n",
       "      <th>13</th>\n",
       "      <td>16.929</td>\n",
       "      <td>20.330</td>\n",
       "    </tr>\n",
       "    <tr>\n",
       "      <th>14</th>\n",
       "      <td>18.200</td>\n",
       "      <td>35.255</td>\n",
       "    </tr>\n",
       "    <tr>\n",
       "      <th>15</th>\n",
       "      <td>12.130</td>\n",
       "      <td>22.158</td>\n",
       "    </tr>\n",
       "    <tr>\n",
       "      <th>16</th>\n",
       "      <td>18.495</td>\n",
       "      <td>25.139</td>\n",
       "    </tr>\n",
       "    <tr>\n",
       "      <th>17</th>\n",
       "      <td>10.639</td>\n",
       "      <td>20.429</td>\n",
       "    </tr>\n",
       "    <tr>\n",
       "      <th>18</th>\n",
       "      <td>11.344</td>\n",
       "      <td>17.425</td>\n",
       "    </tr>\n",
       "    <tr>\n",
       "      <th>19</th>\n",
       "      <td>12.369</td>\n",
       "      <td>34.288</td>\n",
       "    </tr>\n",
       "    <tr>\n",
       "      <th>20</th>\n",
       "      <td>12.944</td>\n",
       "      <td>23.894</td>\n",
       "    </tr>\n",
       "    <tr>\n",
       "      <th>21</th>\n",
       "      <td>14.233</td>\n",
       "      <td>17.960</td>\n",
       "    </tr>\n",
       "    <tr>\n",
       "      <th>22</th>\n",
       "      <td>19.710</td>\n",
       "      <td>22.058</td>\n",
       "    </tr>\n",
       "    <tr>\n",
       "      <th>23</th>\n",
       "      <td>16.004</td>\n",
       "      <td>21.157</td>\n",
       "    </tr>\n",
       "  </tbody>\n",
       "</table>\n",
       "</div>"
      ],
      "text/plain": [
       "    Congruent  Incongruent\n",
       "0      12.079       19.278\n",
       "1      16.791       18.741\n",
       "2       9.564       21.214\n",
       "3       8.630       15.687\n",
       "4      14.669       22.803\n",
       "5      12.238       20.878\n",
       "6      14.692       24.572\n",
       "7       8.987       17.394\n",
       "8       9.401       20.762\n",
       "9      14.480       26.282\n",
       "10     22.328       24.524\n",
       "11     15.298       18.644\n",
       "12     15.073       17.510\n",
       "13     16.929       20.330\n",
       "14     18.200       35.255\n",
       "15     12.130       22.158\n",
       "16     18.495       25.139\n",
       "17     10.639       20.429\n",
       "18     11.344       17.425\n",
       "19     12.369       34.288\n",
       "20     12.944       23.894\n",
       "21     14.233       17.960\n",
       "22     19.710       22.058\n",
       "23     16.004       21.157"
      ]
     },
     "execution_count": 4,
     "metadata": {},
     "output_type": "execute_result"
    }
   ],
   "source": [
    "stroop_df.head(24)"
   ]
  },
  {
   "cell_type": "code",
   "execution_count": 5,
   "metadata": {
    "collapsed": false,
    "deletable": true,
    "editable": true,
    "scrolled": true
   },
   "outputs": [
    {
     "name": "stdout",
     "output_type": "stream",
     "text": [
      "       Congruent  Incongruent\n",
      "count  24.000000    24.000000\n",
      "mean   14.051125    22.015917\n",
      "std     3.559358     4.797057\n",
      "min     8.630000    15.687000\n",
      "25%    11.895250    18.716750\n",
      "50%    14.356500    21.017500\n",
      "75%    16.200750    24.051500\n",
      "max    22.328000    35.255000\n"
     ]
    }
   ],
   "source": [
    "print(stroop_df.describe())\n"
   ]
  },
  {
   "cell_type": "markdown",
   "metadata": {
    "deletable": true,
    "editable": true
   },
   "source": [
    "If we calculate the Range:\n",
    "Range for Congruent data: 13.698\n",
    "Range for InCongruent Data: 19.568\n",
    "\n",
    "Looks like the InCongruent data is more spread out.\n",
    "\n",
    "Lets calculate the difference in the time btwn the two kinds of data.\n"
   ]
  },
  {
   "cell_type": "code",
   "execution_count": 6,
   "metadata": {
    "collapsed": false,
    "deletable": true,
    "editable": true
   },
   "outputs": [
    {
     "name": "stdout",
     "output_type": "stream",
     "text": [
      "    Congruent  Incongruent    diff\n",
      "0      12.079       19.278   7.199\n",
      "1      16.791       18.741   1.950\n",
      "2       9.564       21.214  11.650\n",
      "3       8.630       15.687   7.057\n",
      "4      14.669       22.803   8.134\n",
      "5      12.238       20.878   8.640\n",
      "6      14.692       24.572   9.880\n",
      "7       8.987       17.394   8.407\n",
      "8       9.401       20.762  11.361\n",
      "9      14.480       26.282  11.802\n",
      "10     22.328       24.524   2.196\n",
      "11     15.298       18.644   3.346\n",
      "12     15.073       17.510   2.437\n",
      "13     16.929       20.330   3.401\n",
      "14     18.200       35.255  17.055\n",
      "15     12.130       22.158  10.028\n",
      "16     18.495       25.139   6.644\n",
      "17     10.639       20.429   9.790\n",
      "18     11.344       17.425   6.081\n",
      "19     12.369       34.288  21.919\n",
      "20     12.944       23.894  10.950\n",
      "21     14.233       17.960   3.727\n",
      "22     19.710       22.058   2.348\n",
      "23     16.004       21.157   5.153\n"
     ]
    }
   ],
   "source": [
    "stroop_df['diff'] = stroop_df['Incongruent']-stroop_df['Congruent']\n",
    "#print(stroop_df.sort(['Congruent'],ascending=1))\n",
    "print(stroop_df)\n",
    "\n"
   ]
  },
  {
   "cell_type": "markdown",
   "metadata": {
    "deletable": true,
    "editable": true
   },
   "source": [
    "## Visualizations"
   ]
  },
  {
   "cell_type": "code",
   "execution_count": 7,
   "metadata": {
    "collapsed": false,
    "deletable": true,
    "editable": true
   },
   "outputs": [
    {
     "data": {
      "text/plain": [
       "<matplotlib.text.Text at 0x1714f87f5f8>"
      ]
     },
     "execution_count": 7,
     "metadata": {},
     "output_type": "execute_result"
    },
    {
     "data": {
      "image/png": "[encoded data removed]",
      "text/plain": [
       "<matplotlib.figure.Figure at 0x1714f3e28d0>"
      ]
     },
     "metadata": {},
     "output_type": "display_data"
    }
   ],
   "source": [
    "stroop_df.hist(figsize=(25,10),bins=[0,2,4,6,8,10,12,14,16,18,20,22,24,26,28,30], linewidth=2,edgecolor='black')\n",
    "plt.xlabel(\"Time Duration\")\n",
    "plt.ylabel(\"Frequency\")"
   ]
  },
  {
   "cell_type": "code",
   "execution_count": 8,
   "metadata": {
    "collapsed": false,
    "deletable": true,
    "editable": true
   },
   "outputs": [
    {
     "name": "stdout",
     "output_type": "stream",
     "text": [
      "       Congruent  Incongruent       diff\n",
      "count  24.000000    24.000000  24.000000\n",
      "mean   14.051125    22.015917   7.964792\n",
      "std     3.559358     4.797057   4.864827\n",
      "min     8.630000    15.687000   1.950000\n",
      "25%    11.895250    18.716750   3.645500\n",
      "50%    14.356500    21.017500   7.666500\n",
      "75%    16.200750    24.051500  10.258500\n",
      "max    22.328000    35.255000  21.919000\n",
      "-------------------------\n",
      "Median Values\n",
      "Congruent      14.3565\n",
      "Incongruent    21.0175\n",
      "diff            7.6665\n",
      "dtype: float64\n"
     ]
    }
   ],
   "source": [
    "print(stroop_df.describe())\n",
    "print('-------------------------')\n",
    "print('Median Values')\n",
    "print(stroop_df.median())"
   ]
  },
  {
   "cell_type": "markdown",
   "metadata": {
    "deletable": true,
    "editable": true
   },
   "source": [
    "The mean, median of the Congruent distribution is almost the same. By looking at the histogram we can see that the mode also is somewhere between 14 and 16. We can say that the Congruent data follows a normal distribution.\n",
    "\n",
    "Coming to the Incongruent data, the mean is 22.05 and the median is 21.01. Looking at the mode which comes somewhere btwn 20 and 22. We can say that this data is also a normal distribution.\n",
    "\n",
    "When we look at the time lag difference , the mean and the median are almost the same(7.96, 7.66). It looks like a bimodal distribution with 2 modes(with one mode btwn 2 and 4 and the other one btwn 8 and 12)\n",
    "The lag difference btwn the congruent and Incongruent data does not follow a normal distribution."
   ]
  },
  {
   "cell_type": "code",
   "execution_count": 9,
   "metadata": {
    "collapsed": false,
    "deletable": true,
    "editable": true
   },
   "outputs": [
    {
     "data": {
      "image/png": "[encoded data removed]",
      "text/plain": [
       "<matplotlib.figure.Figure at 0x1714f396dd8>"
      ]
     },
     "metadata": {},
     "output_type": "display_data"
    }
   ],
   "source": [
    "# Box plots of the two conditions\n",
    "title = 'Box Plot of Congruent, InCongruent, Difference'\n",
    "kind = 'box'\n",
    "\n",
    "stroop_df.plot(title=title, kind=kind)\n",
    "ylabel = plt.ylabel('Time (seconds)')"
   ]
  },
  {
   "cell_type": "markdown",
   "metadata": {
    "deletable": true,
    "editable": true
   },
   "source": [
    "There are defnitely some outliers in both congruent and incongruent data. We can also notice that when we calculate the time difference between the congruent and incongruent data. When analyzing both the data, we notice that on an average a person can read congruent and incongruent words with a time lag of 7 seconds with a std deviation of 4.86 secs. There are some people who are able to read both congruent and Incongruent data with a time lag of 1 seconds. Some cases they take around 14 secs to read congruent word but finish incongruent words within 17 secs, and there are cases who took 8 secs to read congruent words but finished incongruent words within the same 17 secs.\n",
    "\n",
    "These outliers maybe due to error or the participant taking the test multiple times and mastering it."
   ]
  },
  {
   "cell_type": "markdown",
   "metadata": {
    "deletable": true,
    "editable": true
   },
   "source": [
    "## Statistical Test\n",
    "* Alpha Levels : $\\alpha = .05$\n",
    "* Degrees of freedom n=23\n",
    "* t-critical Value (two-tails) = 2.069 and -2.069\n",
    "* Our point estimate for the difference of the means($\\mu_c - \\mu_i$) is: 14.05 - 22.02 = -7.97 \n",
    "\n",
    "Our standard deviation of the differences is calculated below."
   ]
  },
  {
   "cell_type": "code",
   "execution_count": 10,
   "metadata": {
    "collapsed": false,
    "deletable": true,
    "editable": true
   },
   "outputs": [
    {
     "name": "stdout",
     "output_type": "stream",
     "text": [
      "4.864826910359056\n"
     ]
    }
   ],
   "source": [
    "std_dev = stroop_df['diff'].std()\n",
    "print(std_dev)"
   ]
  },
  {
   "cell_type": "markdown",
   "metadata": {
    "deletable": true,
    "editable": true
   },
   "source": [
    "Our T-Statistic will be"
   ]
  },
  {
   "cell_type": "code",
   "execution_count": 11,
   "metadata": {
    "collapsed": false,
    "deletable": true,
    "editable": true
   },
   "outputs": [
    {
     "name": "stdout",
     "output_type": "stream",
     "text": [
      "-8.025951841538816\n"
     ]
    }
   ],
   "source": [
    "tstatistic = -7.97/(std_dev/math.sqrt(24))\n",
    "print(tstatistic)"
   ]
  },
  {
   "cell_type": "markdown",
   "metadata": {
    "deletable": true,
    "editable": true
   },
   "source": [
    "### Result:\n",
    "\n",
    "\n",
    "* Reject H0 because t-value falls within the lower tail of critical region\n",
    "\n",
    "* Conclusion: The time to complete the incongruent task is significantly different with the time to complete the congruent task. Moreover, the time to complete the incongruent task is significantly greater than the time to complete the congruent task because the t-value falls within the lower tail of the critical region.\n",
    "\n",
    " The results indicated that the incongruent condition ($\\mu_i = 22.02$, $\\sigma_i = 4.80$) took particants significantly longer to recite than the congruent condition($\\mu_c = 14.05$, $\\sigma_c = 3.56$) because  t-value falls within the lower tail of the critical region\n",
    "\n"
   ]
  },
  {
   "cell_type": "code",
   "execution_count": 12,
   "metadata": {
    "collapsed": false,
    "deletable": true,
    "editable": true
   },
   "outputs": [
    {
     "name": "stdout",
     "output_type": "stream",
     "text": [
      "-2.06865761042\n"
     ]
    }
   ],
   "source": [
    "print(scipy.stats.t.ppf(q=0.025,df=23))\n"
   ]
  },
  {
   "cell_type": "markdown",
   "metadata": {
    "deletable": true,
    "editable": true
   },
   "source": [
    "## Discussion\n",
    "\n",
    "As analyzed above, the data suggests that people would take longer time to tell the color of the word when the written word and its color are incongruent. \n",
    "A possible explanation would be that human brain associates text with reading first and then understanding what it is or picturizing it and our brains are trained in this way. In the incongruent condition we first see the text and then we need to associate with the color which takes slighly longer time. Maybe it would take lesser time if shapes or drawings were given instead of text. \n",
    "I feel that there would be a different kind of time reaction if the participants were given the incongruent word first and the congruent word next."
   ]
  }
 ],
 "metadata": {
  "kernelspec": {
   "display_name": "Python [conda root]",
   "language": "python",
   "name": "conda-root-py"
  },
  "language_info": {
   "codemirror_mode": {
    "name": "ipython",
    "version": 3
   },
   "file_extension": ".py",
   "mimetype": "text/x-python",
   "name": "python",
   "nbconvert_exporter": "python",
   "pygments_lexer": "ipython3",
   "version": "3.5.3"
  }
 },
 "nbformat": 4,
 "nbformat_minor": 2
}
